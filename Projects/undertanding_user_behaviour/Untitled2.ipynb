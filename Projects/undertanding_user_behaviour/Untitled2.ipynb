{
 "cells": [
  {
   "cell_type": "code",
   "execution_count": null,
   "id": "421e2a08-a2de-4cca-ac74-5526f443c701",
   "metadata": {},
   "outputs": [
    {
     "data": {
      "application/vnd.jupyter.widget-view+json": {
       "model_id": "a0f6bbf2fdf94a769dd1ed4a4e298755",
       "version_major": 2,
       "version_minor": 0
      },
      "text/plain": [
       "config.json:   0%|          | 0.00/1.40k [00:00<?, ?B/s]"
      ]
     },
     "metadata": {},
     "output_type": "display_data"
    }
   ],
   "source": [
    "import pandas as pd\n",
    "from transformers import pipeline\n",
    "\n",
    "# Load the CSV file\n",
    "df = pd.read_csv(\"user_interactions.csv\")\n",
    "\n",
    "# Load a pretrained NLP model (FLAN-T5)\n",
    "generator = pipeline(\"text2text-generation\", model=\"google/flan-t5-base\")\n",
    "\n",
    "def generate_message(row):\n",
    "    \"\"\"Generate a personalized message for users with a valid notification type.\"\"\"\n",
    "    if pd.isna(row[\"notification_type\"]):  \n",
    "        return None  # Skip if notification_type is NaN\n",
    "\n",
    "    prompt = (f\"Generate a {row['notification_type']} notification for a user who \"\n",
    "              f\"{row['interaction_type']} {row['visit_count']} times on {row['page_url']}. \"\n",
    "              f\"Last visited: {row['last_visited']}.\")\n",
    "\n",
    "    response = generator(prompt, max_length=50, do_sample=True)\n",
    "    return response[0][\"generated_text\"]\n",
    "\n",
    "# Apply the function to generate messages\n",
    "df[\"message\"] = df.apply(generate_message, axis=1)\n",
    "\n",
    "# Save the updated CSV file\n",
    "df.to_csv(\"user_interaction_updated.csv\", index=False)\n",
    "\n",
    "print(\"Messages generated and saved to user_interaction_updated.csv\")\n"
   ]
  },
  {
   "cell_type": "code",
   "execution_count": null,
   "id": "374ebba9-ced8-41f8-b2f1-e4f365d0fb79",
   "metadata": {},
   "outputs": [],
   "source": []
  }
 ],
 "metadata": {
  "kernelspec": {
   "display_name": "Python [conda env:base] *",
   "language": "python",
   "name": "conda-base-py"
  },
  "language_info": {
   "codemirror_mode": {
    "name": "ipython",
    "version": 3
   },
   "file_extension": ".py",
   "mimetype": "text/x-python",
   "name": "python",
   "nbconvert_exporter": "python",
   "pygments_lexer": "ipython3",
   "version": "3.11.8"
  }
 },
 "nbformat": 4,
 "nbformat_minor": 5
}
