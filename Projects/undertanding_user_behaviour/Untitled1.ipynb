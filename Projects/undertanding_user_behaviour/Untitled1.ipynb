{
 "cells": [
  {
   "cell_type": "code",
   "execution_count": 9,
   "id": "04d19e7f-0b14-4f8e-910f-b57922dadb01",
   "metadata": {},
   "outputs": [
    {
     "name": "stdout",
     "output_type": "stream",
     "text": [
      "User interactions CSV file with notifications generated successfully!\n"
     ]
    }
   ],
   "source": [
    "import pandas as pd\n",
    "import random\n",
    "from datetime import datetime, timedelta\n",
    "\n",
    "# Sample data generation\n",
    "users = [1001, 1002, 1003, 1004, 1005]\n",
    "products = [201, 202, 203, 204, 205]\n",
    "pages = [\"/product/201\", \"/product/202\", \"/product/203\", \"/product/204\", \"/product/205\"]\n",
    "interaction_types = [\"click\", \"view\", \"add_to_cart\", \"purchase\"]\n",
    "notification_types = [\"Email\", \"SMS\", \"Push\"]\n",
    "\n",
    "def random_date(days=30):\n",
    "    return (datetime.now() - timedelta(days=random.randint(0, days))).strftime(\"%Y-%m-%d %H:%M:%S\")\n",
    "\n",
    "# Generate random data\n",
    "num_records = 500\n",
    "data = []\n",
    "for i in range(1, num_records + 1):\n",
    "    user_id = random.choice(users)\n",
    "    product_id = random.choice(products)\n",
    "    page_url = random.choice(pages)\n",
    "    interaction_type = random.choice(interaction_types)\n",
    "    visit_count = random.randint(1, 10)\n",
    "    last_visited = random_date()\n",
    "    created_at = datetime.now().strftime(\"%Y-%m-%d %H:%M:%S\")\n",
    "    \n",
    "    data.append([i, user_id, product_id, page_url, interaction_type, visit_count, last_visited, created_at])\n",
    "\n",
    "# Create DataFrame\n",
    "df = pd.DataFrame(data, columns=[\"id\", \"user_id\", \"product_id\", \"page_url\", \"interaction_type\", \"visit_count\", \"last_visited\", \"created_at\"])\n",
    "\n",
    "# Calculate interaction score\n",
    "max_time_spent = 10  # Assume max possible time spent\n",
    "max_pages_viewed = 10  # Assume max possible pages viewed\n",
    "alpha, beta, gamma = 0.4, 0.4, 0.2  # Weight factors\n",
    "\n",
    "def calculate_interaction_score(visit_count, last_visited):\n",
    "    days_since_last = (datetime.now() - datetime.strptime(last_visited, \"%Y-%m-%d %H:%M:%S\")).days\n",
    "    return round(alpha * (visit_count / max_time_spent) + beta * (visit_count / max_pages_viewed) + gamma * (1 / (1 + days_since_last)), 2)\n",
    "\n",
    "df[\"interaction_score\"] = df.apply(lambda row: calculate_interaction_score(row[\"visit_count\"], row[\"last_visited\"]), axis=1)\n",
    "\n",
    "# Generate notifications\n",
    "def generate_notification(row):\n",
    "    if row[\"interaction_score\"] < 0.5 and (datetime.now() - datetime.strptime(row[\"last_visited\"], \"%Y-%m-%d %H:%M:%S\")).days > 3:\n",
    "        notif_type = random.choice(notification_types)\n",
    "        message = f\"Hey User {row['user_id']}! We noticed you haven’t visited in a while. Check out our latest offers!\"\n",
    "        return pd.Series([notif_type, message])\n",
    "    return pd.Series([None, None])\n",
    "\n",
    "df[[\"notification_type\", \"message\"]] = df.apply(generate_notification, axis=1)\n",
    "\n",
    "# Save to CSV\n",
    "df.to_csv(\"user_interactions.csv\", index=False)\n",
    "\n",
    "print(\"User interactions CSV file with notifications generated successfully!\")\n"
   ]
  },
  {
   "cell_type": "code",
   "execution_count": null,
   "id": "7a0e730a-ec2d-4295-a04d-61d3625ae969",
   "metadata": {},
   "outputs": [],
   "source": []
  }
 ],
 "metadata": {
  "kernelspec": {
   "display_name": "Python [conda env:base] *",
   "language": "python",
   "name": "conda-base-py"
  },
  "language_info": {
   "codemirror_mode": {
    "name": "ipython",
    "version": 3
   },
   "file_extension": ".py",
   "mimetype": "text/x-python",
   "name": "python",
   "nbconvert_exporter": "python",
   "pygments_lexer": "ipython3",
   "version": "3.11.8"
  }
 },
 "nbformat": 4,
 "nbformat_minor": 5
}
